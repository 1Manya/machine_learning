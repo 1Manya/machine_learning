{
 "cells": [
  {
   "cell_type": "code",
   "execution_count": 3,
   "id": "41af1329",
   "metadata": {},
   "outputs": [
    {
     "name": "stdout",
     "output_type": "stream",
     "text": [
      "reversed: [5 4 6 3 2 1]\n"
     ]
    }
   ],
   "source": [
    "#a\n",
    "import numpy as np\n",
    "arr=np.array([1,2,3,6,4,5])\n",
    "print(\"reversed:\",arr[::-1])"
   ]
  },
  {
   "cell_type": "code",
   "execution_count": 4,
   "id": "be6ac29e",
   "metadata": {},
   "outputs": [
    {
     "name": "stdout",
     "output_type": "stream",
     "text": [
      " flatten : [1 2 3 2 4 5 1 2 3]\n",
      "flatten using ravel() [1 2 3 2 4 5 1 2 3]\n"
     ]
    }
   ],
   "source": [
    "#b\n",
    "arr1= np.array([[1, 2, 3], [2, 4, 5], [1, 2, 3]])\n",
    "print(\" flatten :\",arr1.flatten())\n",
    "print(\"flatten using ravel()\",arr1.ravel())"
   ]
  },
  {
   "cell_type": "code",
   "execution_count": 5,
   "id": "32eb9d4e",
   "metadata": {},
   "outputs": [
    {
     "name": "stdout",
     "output_type": "stream",
     "text": [
      "True\n"
     ]
    }
   ],
   "source": [
    "#c\n",
    "arr1 = np.array([[1, 2], [3, 4]]) \n",
    "arr2 = np.array([[1, 2], [3, 4]])\n",
    "print(np.array_equal(arr1,arr2))\n"
   ]
  },
  {
   "cell_type": "code",
   "execution_count": 8,
   "id": "28703810",
   "metadata": {},
   "outputs": [
    {
     "name": "stdout",
     "output_type": "stream",
     "text": [
      "most frequent (np.int64(1), array([0, 5, 7, 8, 9]))\n",
      "most frequent (np.int64(1), array([0, 1, 2]))\n"
     ]
    }
   ],
   "source": [
    "x = np.array([1,2,3,4,5,1,2,1,1,1]) \n",
    "y = np.array([1, 1, 1, 2, 3, 4, 2, 4, 3, 3])\n",
    "def most_frequent(arr):\n",
    "    vals,counts=np.unique(arr,return_counts=True)\n",
    "    max_count=np.max(counts)\n",
    "    max_val=vals[counts.argmax()]\n",
    "    indices=np.where(arr==max_val)[0]\n",
    "    return max_val,indices\n",
    "print(\"most frequent\",most_frequent(x))\n",
    "print(\"most frequent\",most_frequent(y))"
   ]
  },
  {
   "cell_type": "code",
   "execution_count": 10,
   "id": "3245f05c",
   "metadata": {},
   "outputs": [
    {
     "name": "stdout",
     "output_type": "stream",
     "text": [
      "total sum 45\n",
      "row wise sum: [[14]\n",
      " [16]\n",
      " [15]]\n",
      "column wise [[20  9 16]]\n"
     ]
    }
   ],
   "source": [
    "#e\n",
    "gfg = np.matrix('[4, 1, 9; 12, 3, 1; 4, 5, 6]')\n",
    "print(\"total sum\",gfg.sum())\n",
    "print(\"row wise sum:\",gfg.sum(axis=1))\n",
    "print(\"column wise\",gfg.sum(axis=0))\n"
   ]
  },
  {
   "cell_type": "code",
   "execution_count": 11,
   "id": "7302eb8a",
   "metadata": {},
   "outputs": [
    {
     "name": "stdout",
     "output_type": "stream",
     "text": [
      "diagonal sum  176\n",
      "[98.16835147 28.097044   49.73460452]\n",
      "[[ 0.4574917   0.34637121 -0.15017693]\n",
      " [ 0.28447814 -0.72784061 -0.4852124 ]\n",
      " [ 0.84248058  0.59184038  0.8614034 ]]\n",
      "[[ 0.02404141 -0.00911212 -0.00444671]\n",
      " [-0.01667882  0.02966905  0.0024785 ]\n",
      " [ 0.00631287 -0.01603732  0.01217379]]\n",
      "137180.0000000001\n"
     ]
    }
   ],
   "source": [
    "n_array = np.array([[55, 25, 15],[30, 44, 2],[11, 45, 77]])\n",
    "print(\"diagonal sum \",np.trace(n_array))\n",
    "eig_vals,eig_vecs=np.linalg.eig(n_array)\n",
    "print(eig_vals)\n",
    "print(eig_vecs)\n",
    "print(np.linalg.inv(n_array))\n",
    "print(np.linalg.det(n_array))"
   ]
  },
  {
   "cell_type": "code",
   "execution_count": 13,
   "id": "f9f8456b",
   "metadata": {},
   "outputs": [
    {
     "name": "stdout",
     "output_type": "stream",
     "text": [
      "[[16 19]\n",
      " [26 31]]\n",
      "[[0.5 0.5]\n",
      " [0.5 0.5]]\n",
      "[[16 19  5]\n",
      " [26 31  8]\n",
      " [46 55 14]]\n",
      "[[2.33333333 2.33333333]\n",
      " [2.33333333 2.33333333]]\n"
     ]
    }
   ],
   "source": [
    "#g\n",
    "p =np.array([[1, 2], [2, 3]]) \n",
    "q = np.array([[4, 5], [6, 7]])\n",
    "print(np.dot(p,q))\n",
    "print(np.cov(p,rowvar=False))\n",
    "p2 =np.array ([[1, 2], [2, 3], [4, 5]]) \n",
    "q2= np.array([[4, 5, 1], [6, 7, 2]])  \n",
    "print(np.dot(p2,q2))\n",
    "print(np.cov(p2,rowvar=False))"
   ]
  },
  {
   "cell_type": "code",
   "execution_count": 14,
   "id": "8272e9cb",
   "metadata": {},
   "outputs": [
    {
     "name": "stdout",
     "output_type": "stream",
     "text": [
      "[[17 52]\n",
      " [13 62]]\n",
      "[[ 2 10  0 10 20  6]\n",
      " [ 3 15  0 15 30  9]\n",
      " [ 4 20  0 20 40 12]\n",
      " [ 3 15  0 15 30  9]\n",
      " [ 2 10  0 10 20  6]\n",
      " [ 9 45  0 45 90 27]]\n",
      "[[ 2  1]\n",
      " [ 2  5]\n",
      " [ 2  0]\n",
      " [ 2  5]\n",
      " [ 2 10]\n",
      " [ 2  3]\n",
      " [ 3  1]\n",
      " [ 3  5]\n",
      " [ 3  0]\n",
      " [ 3  5]\n",
      " [ 3 10]\n",
      " [ 3  3]\n",
      " [ 4  1]\n",
      " [ 4  5]\n",
      " [ 4  0]\n",
      " [ 4  5]\n",
      " [ 4 10]\n",
      " [ 4  3]\n",
      " [ 3  1]\n",
      " [ 3  5]\n",
      " [ 3  0]\n",
      " [ 3  5]\n",
      " [ 3 10]\n",
      " [ 3  3]\n",
      " [ 2  1]\n",
      " [ 2  5]\n",
      " [ 2  0]\n",
      " [ 2  5]\n",
      " [ 2 10]\n",
      " [ 2  3]\n",
      " [ 9  1]\n",
      " [ 9  5]\n",
      " [ 9  0]\n",
      " [ 9  5]\n",
      " [ 9 10]\n",
      " [ 9  3]]\n"
     ]
    }
   ],
   "source": [
    "#h\n",
    "x = np.array([[2, 3, 4], [3, 2, 9]])\n",
    "y = np.array([[1, 5, 0], [5, 10, 3]])\n",
    "print(np.inner(x,y))\n",
    "print(np.outer(x.flatten(),y.flatten()))\n",
    "cartesian=np.array(np.meshgrid(x.flatten(),y.flatten())).T.reshape(-1,2)\n",
    "print(cartesian)"
   ]
  },
  {
   "cell_type": "code",
   "execution_count": 17,
   "id": "55759f3f",
   "metadata": {},
   "outputs": [
    {
     "name": "stdout",
     "output_type": "stream",
     "text": [
      "Absolute:\n",
      " [[1 2 3]\n",
      " [4 5 6]]\n",
      "25th percentile: -3.5\n",
      "50th percentile: -0.5\n",
      "75th percentile: 2.5\n",
      "Row-wise percentile:\n",
      " [[-0.5 -5. ]\n",
      " [ 1.  -4. ]\n",
      " [ 2.   0.5]]\n",
      "Column-wise percentile:\n",
      " [[-2.75 -0.25 -3.75]\n",
      " [-1.5   1.5  -1.5 ]\n",
      " [-0.25  3.25  0.75]]\n",
      "Mean: -0.5\n",
      "Median: -0.5\n",
      "Std Dev: 3.8622100754188224\n",
      "Floor: [-2. -2. -1.  0.  1.  1.  3.]\n",
      "Ceiling: [-1. -1. -0.  1.  2.  2.  3.]\n",
      "Trunc: [-1. -1. -0.  0.  1.  1.  3.]\n",
      "Rounded: [-2. -2. -0.  0.  2.  2.  3.]\n"
     ]
    }
   ],
   "source": [
    "# que2 \n",
    "array = np.array([[1, -2, 3],[-4, 5, -6]])\n",
    "\n",
    "# (a)\n",
    "print(\"Absolute:\\n\", np.abs(array))\n",
    "flat = array.flatten()\n",
    "print(\"25th percentile:\", np.percentile(flat, 25))\n",
    "print(\"50th percentile:\", np.percentile(flat, 50))\n",
    "print(\"75th percentile:\", np.percentile(flat, 75))\n",
    "\n",
    "print(\"Row-wise percentile:\\n\", np.percentile(array, [25, 50, 75], axis=1))\n",
    "print(\"Column-wise percentile:\\n\", np.percentile(array, [25, 50, 75], axis=0))\n",
    "\n",
    "print(\"Mean:\", flat.mean())\n",
    "print(\"Median:\", np.median(flat))\n",
    "print(\"Std Dev:\", np.std(flat))\n",
    "\n",
    "# (b)\n",
    "a = np.array([-1.8, -1.6, -0.5, 0.5,1.6, 1.8, 3.0])\n",
    "print(\"Floor:\", np.floor(a))\n",
    "print(\"Ceiling:\", np.ceil(a))\n",
    "print(\"Trunc:\", np.trunc(a))\n",
    "print(\"Rounded:\", np.round(a))\n"
   ]
  },
  {
   "cell_type": "code",
   "execution_count": 18,
   "id": "9f9d84fd",
   "metadata": {},
   "outputs": [
    {
     "name": "stdout",
     "output_type": "stream",
     "text": [
      "[ 10  16  16  52  54  62 453]\n",
      "[0 3 4 1 5 2 6]\n",
      "[10 16 16 52]\n",
      "[ 16  52  54  62 453]\n",
      "Integers: [1. 2. 3. 2.]\n",
      "Floats: [1.2 2.2]\n"
     ]
    }
   ],
   "source": [
    "#que3 \n",
    "array = np.array([10, 52, 62, 16, 16, 54, 453])\n",
    "print( np.sort(array))\n",
    "print( np.argsort(array))\n",
    "print( np.sort(array)[:4])\n",
    "print(np.sort(array)[-5:])\n",
    "\n",
    "array2 = np.array([1.0, 1.2, 2.2, 2.0, 3.0, 2.0])\n",
    "ints = array2[array2 == array2.astype(int)]\n",
    "floats = array2[array2 != array2.astype(int)]\n",
    "print(\"Integers:\", ints)\n",
    "print(\"Floats:\", floats)"
   ]
  },
  {
   "cell_type": "code",
   "execution_count": 20,
   "id": "4c737530",
   "metadata": {},
   "outputs": [],
   "source": [
    "\n",
    "from PIL import Image\n",
    "import numpy as np\n",
    "\n",
    "\n",
    "def img_to_array(path):\n",
    "    img = Image.open(path)\n",
    "    arr = np.array(img)\n",
    "    if len(arr.shape) == 2:\n",
    "        np.savetxt(\"grayscale_image.txt\", arr, fmt='%d')\n",
    "        print(\"Saved as grayscale_image.txt\")\n",
    "    else:\n",
    "      \n",
    "        for i in range(arr.shape[2]):\n",
    "            np.savetxt(f\"rgb_channel_{i}.txt\", arr[:,:,i], fmt='%d')\n",
    "        print(\"Saved as RGB image text files\")\n",
    "\n",
    "def load_text_file(filename):\n",
    "    return np.loadtxt(filename)\n",
    "\n",
    "\n"
   ]
  },
  {
   "cell_type": "code",
   "execution_count": null,
   "id": "a4875425",
   "metadata": {},
   "outputs": [],
   "source": []
  }
 ],
 "metadata": {
  "kernelspec": {
   "display_name": "Python 3 (ipykernel)",
   "language": "python",
   "name": "python3"
  },
  "language_info": {
   "codemirror_mode": {
    "name": "ipython",
    "version": 3
   },
   "file_extension": ".py",
   "mimetype": "text/x-python",
   "name": "python",
   "nbconvert_exporter": "python",
   "pygments_lexer": "ipython3",
   "version": "3.9.12"
  }
 },
 "nbformat": 4,
 "nbformat_minor": 5
}
