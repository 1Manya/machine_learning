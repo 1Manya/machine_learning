{
 "cells": [
  {
   "cell_type": "markdown",
   "id": "f37308e4",
   "metadata": {},
   "source": [
    "# Assignment-3 Solution: Pandas\n"
   ]
  },
  {
   "cell_type": "code",
   "execution_count": null,
   "id": "a6d17d00",
   "metadata": {},
   "outputs": [],
   "source": [
    "import pandas as pd\n",
    "data = {\n",
    "    'Name': ['John', 'Alice', 'Bob', 'Diana', 'Charlie', 'Eve', 'Frank', 'Grace', 'Hank'],\n",
    "    'Age': [23, 25, 22, 24, 23, 26, 29, 21, 27],\n",
    "    'Gender': ['Male', 'Female', 'Male', 'Female', 'Male', 'Female', 'Male', 'Female', 'Male'],\n",
    "    'Marks': [85, 90, 88, 92, 79, 95, 80, 87, 91]\n",
    "}\n",
    "df = pd.DataFrame(data)\n",
    "df"
   ]
  },
  {
   "cell_type": "code",
   "execution_count": null,
   "id": "856a599f",
   "metadata": {},
   "outputs": [],
   "source": [
    "df.loc[[0, 4, 7, 8]]"
   ]
  },
  {
   "cell_type": "code",
   "execution_count": null,
   "id": "2e82c1cc",
   "metadata": {},
   "outputs": [],
   "source": [
    "df.iloc[3:8]"
   ]
  },
  {
   "cell_type": "code",
   "execution_count": null,
   "id": "bc4e3d63",
   "metadata": {},
   "outputs": [],
   "source": [
    "df.iloc[4:9, 2:5]"
   ]
  },
  {
   "cell_type": "code",
   "execution_count": null,
   "id": "3a4214a6",
   "metadata": {},
   "outputs": [],
   "source": [
    "df.iloc[:, 1:4]"
   ]
  },
  {
   "cell_type": "code",
   "execution_count": null,
   "id": "59a04aac",
   "metadata": {},
   "outputs": [],
   "source": [
    "iris_df = pd.read_csv('iris.csv')\n",
    "iris_df.head()"
   ]
  },
  {
   "cell_type": "code",
   "execution_count": null,
   "id": "f439c080",
   "metadata": {},
   "outputs": [],
   "source": [
    "iris_modified = iris_df.drop(index=4)\n",
    "iris_modified = iris_modified.drop(iris_modified.columns[3], axis=1)\n",
    "iris_modified"
   ]
  },
  {
   "cell_type": "code",
   "execution_count": null,
   "id": "ccf1314a",
   "metadata": {},
   "outputs": [],
   "source": [
    "employee_data = {\n",
    "    'Employee_ID': [101, 102, 103, 104, 105],\n",
    "    'Name': ['Alice', 'Bob', 'Charlie', 'Diana', 'Edward'],\n",
    "    'Department': ['HR', 'IT', 'IT', 'Marketing', 'Sales'],\n",
    "    'Age': [29, 34, 41, 28, 38],\n",
    "    'Salary': [50000, 70000, 65000, 55000, 60000],\n",
    "    'Years_of_Experience': [4, 8, 10, 3, 12],\n",
    "    'Joining_Date': ['2020-03-15', '2017-07-19', '2013-06-01', '2021-02-10', '2010-11-25'],\n",
    "    'Gender': ['Female', 'Male', 'Male', 'Female', 'Male'],\n",
    "    'Bonus': [5000, 7000, 6000, 4500, 5000],\n",
    "    'Rating': [4.5, 4.0, 3.8, 4.7, 3.5]\n",
    "}\n",
    "emp_df = pd.DataFrame(employee_data)"
   ]
  },
  {
   "cell_type": "code",
   "execution_count": null,
   "id": "97efca2d",
   "metadata": {},
   "outputs": [],
   "source": [
    "emp_df.shape"
   ]
  },
  {
   "cell_type": "code",
   "execution_count": null,
   "id": "218185d7",
   "metadata": {},
   "outputs": [],
   "source": [
    "emp_df.info()"
   ]
  },
  {
   "cell_type": "code",
   "execution_count": null,
   "id": "7d0bdcfe",
   "metadata": {},
   "outputs": [],
   "source": [
    "emp_df.describe()"
   ]
  },
  {
   "cell_type": "code",
   "execution_count": null,
   "id": "8855bb99",
   "metadata": {},
   "outputs": [],
   "source": [
    "emp_df.head()"
   ]
  },
  {
   "cell_type": "code",
   "execution_count": null,
   "id": "38f67f8f",
   "metadata": {},
   "outputs": [],
   "source": [
    "emp_df.tail(3)"
   ]
  },
  {
   "cell_type": "code",
   "execution_count": null,
   "id": "28e8297a",
   "metadata": {},
   "outputs": [],
   "source": [
    "emp_df['Salary'].mean()"
   ]
  },
  {
   "cell_type": "code",
   "execution_count": null,
   "id": "e61d7104",
   "metadata": {},
   "outputs": [],
   "source": [
    "emp_df['Bonus'].sum()"
   ]
  },
  {
   "cell_type": "code",
   "execution_count": null,
   "id": "d2320e75",
   "metadata": {},
   "outputs": [],
   "source": [
    "emp_df['Age'].min()"
   ]
  },
  {
   "cell_type": "code",
   "execution_count": null,
   "id": "739d99e9",
   "metadata": {},
   "outputs": [],
   "source": [
    "emp_df['Rating'].max()"
   ]
  },
  {
   "cell_type": "code",
   "execution_count": null,
   "id": "c2432df0",
   "metadata": {},
   "outputs": [],
   "source": [
    "emp_df.sort_values(by='Salary', ascending=False)"
   ]
  },
  {
   "cell_type": "code",
   "execution_count": null,
   "id": "fef53a23",
   "metadata": {},
   "outputs": [],
   "source": [
    "emp_df['Performance'] = pd.cut(emp_df['Rating'], \n",
    "                              bins=[0, 4.0, 4.5, 5.0], \n",
    "                              labels=['Average', 'Good', 'Excellent'], \n",
    "                              right=False)\n",
    "emp_df"
   ]
  },
  {
   "cell_type": "code",
   "execution_count": null,
   "id": "582e9763",
   "metadata": {},
   "outputs": [],
   "source": [
    "emp_df.isnull().sum()"
   ]
  },
  {
   "cell_type": "code",
   "execution_count": null,
   "id": "6089c9aa",
   "metadata": {},
   "outputs": [],
   "source": [
    "emp_df.rename(columns={'Employee_ID': 'ID'}, inplace=True)\n",
    "emp_df"
   ]
  },
  {
   "cell_type": "code",
   "execution_count": null,
   "id": "b438bb2d",
   "metadata": {},
   "outputs": [],
   "source": [
    "emp_df[emp_df['Years_of_Experience'] > 5]"
   ]
  },
  {
   "cell_type": "code",
   "execution_count": null,
   "id": "ee213633",
   "metadata": {},
   "outputs": [],
   "source": [
    "emp_df[emp_df['Department'] == 'IT']"
   ]
  },
  {
   "cell_type": "code",
   "execution_count": null,
   "id": "4b539f8c",
   "metadata": {},
   "outputs": [],
   "source": [
    "emp_df['Tax'] = emp_df['Salary'] * 0.10\n",
    "emp_df"
   ]
  },
  {
   "cell_type": "code",
   "execution_count": null,
   "id": "527c808a",
   "metadata": {},
   "outputs": [],
   "source": [
    "emp_df.to_csv('modified_employees.csv', index=False)"
   ]
  }
 ],
 "metadata": {},
 "nbformat": 4,
 "nbformat_minor": 5
}
