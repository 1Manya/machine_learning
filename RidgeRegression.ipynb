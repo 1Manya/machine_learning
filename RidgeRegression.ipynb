{
 "cells": [
  {
   "cell_type": "code",
   "execution_count": 2,
   "id": "8be7ac32-2bfc-473d-85d8-6a555bd302e3",
   "metadata": {},
   "outputs": [
    {
     "name": "stdout",
     "output_type": "stream",
     "text": [
      "Feature Correlation Matrix:\n",
      "           Feature_1  Feature_2  Feature_3  Feature_4  Feature_5  Feature_6  \\\n",
      "Feature_1   1.000000   0.897950   0.889118   0.903796   0.896104   0.902124   \n",
      "Feature_2   0.897950   1.000000   0.891180   0.906176   0.906239   0.898228   \n",
      "Feature_3   0.889118   0.891180   1.000000   0.904157   0.905161   0.898464   \n",
      "Feature_4   0.903796   0.906176   0.904157   1.000000   0.892401   0.911539   \n",
      "Feature_5   0.896104   0.906239   0.905161   0.892401   1.000000   0.901148   \n",
      "Feature_6   0.902124   0.898228   0.898464   0.911539   0.901148   1.000000   \n",
      "Feature_7   0.895656   0.906879   0.899301   0.911495   0.894585   0.904232   \n",
      "Target      0.897466   0.788642   0.864259   0.863332   0.846861   0.877392   \n",
      "\n",
      "           Feature_7    Target  \n",
      "Feature_1   0.895656  0.897466  \n",
      "Feature_2   0.906879  0.788642  \n",
      "Feature_3   0.899301  0.864259  \n",
      "Feature_4   0.911495  0.863332  \n",
      "Feature_5   0.894585  0.846861  \n",
      "Feature_6   0.904232  0.877392  \n",
      "Feature_7   1.000000  0.814789  \n",
      "Target      0.814789  1.000000  \n",
      "\n",
      "Dataset saved as 'highly_correlated_dataset.csv'\n"
     ]
    }
   ],
   "source": [
    "import numpy as np\n",
    "import pandas as pd\n",
    "\n",
    "# Step 1: Set a random seed for reproducibility\n",
    "np.random.seed(42)\n",
    "\n",
    "# Step 2: Define parameters\n",
    "n_samples = 500      # number of data points\n",
    "n_features = 7       # number of features\n",
    "\n",
    "# Step 3: Create a covariance matrix to make features correlated\n",
    "base_corr = 0.9\n",
    "cov = np.full((n_features, n_features), base_corr)\n",
    "np.fill_diagonal(cov, 1.0)  # diagonal = 1 (self-correlation)\n",
    "\n",
    "# Step 4: Generate multivariate normal data (highly correlated)\n",
    "mean = np.zeros(n_features)\n",
    "X = np.random.multivariate_normal(mean, cov, size=n_samples)\n",
    "\n",
    "# Step 5: Define true coefficients and bias\n",
    "true_weights = np.array([2.5, -1.8, 1.2, 0.8, 0.5, 1.5, -0.7])\n",
    "bias = 3.0\n",
    "\n",
    "# Step 6: Generate target variable with some noise They define how the target variable (y) \n",
    "#is generated from your features (X) using a linear relationship + randomness\n",
    "noise = np.random.normal(0, 1.5, size=n_samples)\n",
    "y = X.dot(true_weights) + bias + noise\n",
    "\n",
    "# Step 7: Create DataFrame\n",
    "columns = [f'Feature_{i+1}' for i in range(n_features)]\n",
    "df = pd.DataFrame(X, columns=columns)\n",
    "df['Target'] = y\n",
    "\n",
    "# Step 8: Display correlation matrix\n",
    "print(\"Feature Correlation Matrix:\")\n",
    "print(df.corr())\n",
    "\n",
    "# Step 9: Save dataset\n",
    "df.to_csv(\"highly_correlated_dataset.csv\", index=False)\n",
    "print(\"\\nDataset saved as 'highly_correlated_dataset.csv'\")\n"
   ]
  },
  {
   "cell_type": "code",
   "execution_count": null,
   "id": "f2f0aff6-f821-48d9-9604-442e2a2a8363",
   "metadata": {},
   "outputs": [],
   "source": []
  }
 ],
 "metadata": {
  "kernelspec": {
   "display_name": "Python [conda env:base] *",
   "language": "python",
   "name": "conda-base-py"
  },
  "language_info": {
   "codemirror_mode": {
    "name": "ipython",
    "version": 3
   },
   "file_extension": ".py",
   "mimetype": "text/x-python",
   "name": "python",
   "nbconvert_exporter": "python",
   "pygments_lexer": "ipython3",
   "version": "3.13.5"
  }
 },
 "nbformat": 4,
 "nbformat_minor": 5
}
